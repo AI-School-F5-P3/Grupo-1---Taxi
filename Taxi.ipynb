{
 "cells": [
  {
   "cell_type": "code",
   "execution_count": 1,
   "metadata": {},
   "outputs": [],
   "source": [
    "import time\n",
    "\n",
    "class Taximetro:\n",
    "    def __init__(self):\n",
    "        self.costo_total = 0.0\n",
    "        self.en_carrera = False\n",
    "        self.en_movimiento = False\n",
    "        self.ultimo_tiempo = None\n",
    "        self.costo_por_segundo_parado = 0.02\n",
    "        self.costo_por_segundo_movimiento = 0.05\n",
    "\n",
    "    def iniciar_carrera(self):\n",
    "        self.en_carrera = True\n",
    "        self.en_movimiento = False\n",
    "        self.ultimo_tiempo = time.time()\n",
    "        print(\"La carrera ha comenzado. El taxi está parado.\")\n",
    "\n",
    "    def terminar_carrera(self):\n",
    "        self.actualizar_costo()\n",
    "        self.en_carrera = False\n",
    "        print(f\"La carrera ha terminado. El total es {self.costo_total:.2f} Euros.\")\n",
    "        self.reiniciar()\n",
    "\n",
    "    def comenzar_movimiento(self):\n",
    "        if self.en_carrera and not self.en_movimiento:\n",
    "            self.actualizar_costo()\n",
    "            self.en_movimiento = True\n",
    "            self.ultimo_tiempo = time.time()\n",
    "            print(\"El taxi está en movimiento.\")\n",
    "\n",
    "    def detener_movimiento(self):\n",
    "        if self.en_carrera and self.en_movimiento:\n",
    "            self.actualizar_costo()\n",
    "            self.en_movimiento = False\n",
    "            self.ultimo_tiempo = time.time()\n",
    "            print(\"El taxi está parado.\")\n",
    "\n",
    "    def actualizar_costo(self):\n",
    "        if self.en_carrera:\n",
    "            tiempo_actual = time.time()\n",
    "            tiempo_transcurrido = tiempo_actual - self.ultimo_tiempo\n",
    "            if self.en_movimiento:\n",
    "                self.costo_total += tiempo_transcurrido * self.costo_por_segundo_movimiento\n",
    "            else:\n",
    "                self.costo_total += tiempo_transcurrido * self.costo_por_segundo_parado\n",
    "            self.ultimo_tiempo = tiempo_actual\n",
    "\n",
    "    def reiniciar(self):\n",
    "        self.costo_total = 0.0\n",
    "        self.en_carrera = False\n",
    "        self.en_movimiento = False\n",
    "        self.ultimo_tiempo = None"
   ]
  }
 ],
 "metadata": {
  "kernelspec": {
   "display_name": "Python 3",
   "language": "python",
   "name": "python3"
  },
  "language_info": {
   "codemirror_mode": {
    "name": "ipython",
    "version": 3
   },
   "file_extension": ".py",
   "mimetype": "text/x-python",
   "name": "python",
   "nbconvert_exporter": "python",
   "pygments_lexer": "ipython3",
   "version": "3.11.9"
  }
 },
 "nbformat": 4,
 "nbformat_minor": 2
}
